{
 "cells": [
  {
   "cell_type": "code",
   "execution_count": 6,
   "metadata": {},
   "outputs": [
    {
     "name": "stdout",
     "output_type": "stream",
     "text": [
      "The autoreload extension is already loaded. To reload it, use:\n",
      "  %reload_ext autoreload\n"
     ]
    }
   ],
   "source": [
    "%load_ext autoreload\n",
    "%autoreload 2\n",
    "\n",
    "from sort_new_data import *\n",
    "from paths_and_params import *"
   ]
  },
  {
   "cell_type": "code",
   "execution_count": 10,
   "metadata": {
    "collapsed": true
   },
   "outputs": [],
   "source": [
    "pathss = paths()\n",
    "new_data_dir = pathss['new_data_dir']\n",
    "data_dir = pathss['data_dir']"
   ]
  },
  {
   "cell_type": "code",
   "execution_count": 11,
   "metadata": {},
   "outputs": [
    {
     "name": "stdout",
     "output_type": "stream",
     "text": [
      "[('/Users/cshanahan/Desktop/work_at_airport/new_data/ic5y17f7q_flt.fits', 'F814W', '13169', 56376.0, '2013-03-25'), ('/Users/cshanahan/Desktop/work_at_airport/new_data/ic5y17fjq_flt.fits', 'F814W', '13169', 56376.0, '2013-03-25'), ('/Users/cshanahan/Desktop/work_at_airport/new_data/icgy05hjq_flt.fits', 'F814W', '13585', 56662.0, '2014-01-05'), ('/Users/cshanahan/Desktop/work_at_airport/new_data/icgy06bpq_flt.fits', 'F814W', '13585', 56670.0, '2014-01-13'), ('/Users/cshanahan/Desktop/work_at_airport/new_data/icgy06bqq_flt.fits', 'F814W', '13585', 56670.0, '2014-01-13'), ('/Users/cshanahan/Desktop/work_at_airport/new_data/icgy24klq_flt.fits', 'F814W', '13585', 56839.0, '2014-07-01'), ('/Users/cshanahan/Desktop/work_at_airport/new_data/icgy24kxq_flt.fits', 'F814W', '13585', 56839.0, '2014-07-01')]\n"
     ]
    }
   ],
   "source": [
    "new_files = get_new_files(new_data_dir)\n",
    "new_files_info = info_new_files(new_files)\n",
    "print new_files_info"
   ]
  },
  {
   "cell_type": "code",
   "execution_count": null,
   "metadata": {
    "collapsed": true
   },
   "outputs": [],
   "source": []
  }
 ],
 "metadata": {
  "kernelspec": {
   "display_name": "Python 2",
   "language": "python",
   "name": "python2"
  },
  "language_info": {
   "codemirror_mode": {
    "name": "ipython",
    "version": 2
   },
   "file_extension": ".py",
   "mimetype": "text/x-python",
   "name": "python",
   "nbconvert_exporter": "python",
   "pygments_lexer": "ipython2",
   "version": "2.7.13"
  }
 },
 "nbformat": 4,
 "nbformat_minor": 2
}
